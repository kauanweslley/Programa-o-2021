{
  "nbformat": 4,
  "nbformat_minor": 0,
  "metadata": {
    "colab": {
      "name": "Revisão Python - Kauan - 3info2",
      "provenance": []
    },
    "kernelspec": {
      "name": "python3",
      "display_name": "Python 3"
    },
    "language_info": {
      "name": "python"
    }
  },
  "cells": [
    {
      "cell_type": "markdown",
      "metadata": {
        "id": "TSp0Rd-hcJdp"
      },
      "source": [
        "# **Converta uma temperatura digitada em Celsius para Fahrenheit.** "
      ]
    },
    {
      "cell_type": "code",
      "metadata": {
        "id": "157yDoS3SpcW"
      },
      "source": [
        "temp_Celsius = float (input(\" Digite a Temperatura em graus Celsius: \"))\n",
        "celsius_para_fahrenheit = ( temp_Celsius * 9/5) + 32\n",
        "print (\"Temperatura em Fahrenheit = \", celsius_para_fahrenheit)"
      ],
      "execution_count": null,
      "outputs": []
    },
    {
      "cell_type": "markdown",
      "metadata": {
        "id": "ccnqYFMIr5Yc"
      },
      "source": [
        "# **Converta uma temperatura digitada em Fahrenheit para Celsius.**"
      ]
    },
    {
      "cell_type": "code",
      "metadata": {
        "id": "QXw-wgnxU_DJ"
      },
      "source": [
        "temp_Fahrenheit = float (input(\" Digite a Temperatura em graus Fahrenheit: \"))\n",
        "fahrenheit_para_celsius = (temp_Fahrenheit - 32) * 5/9\n",
        "print (\"Temperatura em Celsius = \", fahrenheit_para_celsius)"
      ],
      "execution_count": null,
      "outputs": []
    },
    {
      "cell_type": "markdown",
      "metadata": {
        "id": "k2MP7I7IuwoJ"
      },
      "source": [
        "# **Metros para Milimetros**"
      ]
    },
    {
      "cell_type": "code",
      "metadata": {
        "id": "7VZV-XAPu4Lj"
      },
      "source": [
        "metros = float (input(\"Metros: \"))\n",
        "metros_para_milimetros = metros * 1000\n",
        "print (\"Valor em milimetros = \", metros_para_milimetros)"
      ],
      "execution_count": null,
      "outputs": []
    },
    {
      "cell_type": "markdown",
      "metadata": {
        "id": "CrkQ-Uo-wob6"
      },
      "source": [
        "##**Calcule quantos dígitos há em 2 elevado a um milhão**"
      ]
    },
    {
      "cell_type": "code",
      "metadata": {
        "id": "y7_xwd_Aw7dz"
      },
      "source": [
        "valor = str( 2 ** 1000000)\n",
        "print (\"Digitos: \", len(valor))"
      ],
      "execution_count": null,
      "outputs": []
    },
    {
      "cell_type": "markdown",
      "metadata": {
        "id": "_9T7OElBxulm"
      },
      "source": [
        "##**Calcule o tempo de uma viagem de carro. Pergunte a distância a percorrer e a velocidade média esperada para a viagem**"
      ]
    },
    {
      "cell_type": "code",
      "metadata": {
        "id": "BCjH-7KpyD7G"
      },
      "source": [
        "distancia = float (input(\"Distância a percorrer em km: \"))\n",
        "vm = float (input(\"Velocidade média esperada em km/h: \"))\n",
        "tempo = distancia // vm \n",
        "print (\" Tempo da viagem = \", tempo,\"horas\")"
      ],
      "execution_count": null,
      "outputs": []
    },
    {
      "cell_type": "markdown",
      "metadata": {
        "id": "vX5K1h-JrUz4"
      },
      "source": [
        "##**Ele deve solicitar o valor do salário e a porcentagem do aumento. Exiba o valor do aumento e do novo salário.**"
      ]
    },
    {
      "cell_type": "code",
      "metadata": {
        "id": "XLvwlSMsvvB1"
      },
      "source": [
        "salario = float (input(\"Informe seu salario: \"))\n",
        "porcentagem = float (input(\"Informe a porcentagem de aumento\"))\n",
        "aumento_salarial = salario * (porcentagem / 100)\n",
        "print (\"Salário Novo =\", salario + aumento_salarial)"
      ],
      "execution_count": null,
      "outputs": []
    }
  ]
}