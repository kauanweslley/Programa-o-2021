{
  "nbformat": 4,
  "nbformat_minor": 0,
  "metadata": {
    "colab": {
      "name": "exerciciosII- Kauan Weslley - 3INFO2.ipynb",
      "provenance": [],
      "collapsed_sections": []
    },
    "kernelspec": {
      "name": "python3",
      "display_name": "Python 3"
    },
    "language_info": {
      "name": "python"
    }
  },
  "cells": [
    {
      "cell_type": "markdown",
      "metadata": {
        "id": "2mNhvN2Oe9t1"
      },
      "source": [
        "# **Lista de Exercicios II - Estrutura de Decisão**\n"
      ]
    },
    {
      "cell_type": "markdown",
      "metadata": {
        "id": "1vpC7ybn59Kn"
      },
      "source": [
        "1 - O programa deverá informar se os valores podem ser\n",
        "um triângulo. Indique, caso os lados formem um triângulo, se o mesmo é: equilátero, isósceles ou escaleno."
      ]
    },
    {
      "cell_type": "markdown",
      "metadata": {
        "id": "YalYsl2U59Fx"
      },
      "source": [
        ""
      ]
    },
    {
      "cell_type": "code",
      "metadata": {
        "id": "v53IchVuiyeo"
      },
      "source": [
        "lado1 = int(input(\"informe o lado 1 do triangulo: \"))\n",
        "lado2 = int(input(\"informe o lado 2 do triangulo: \"))\n",
        "lado3 = int(input(\"informe o lado 3 do triangulo: \"))\n",
        "\n",
        "if lado1 + lado2 > lado3  and  lado2 + lado3  > lado1  and  lado1 + lado3  > lado2 :\n",
        "      if  lado1 == lado2 == lado3 :\n",
        "            print (\"Triângulo equilátero\")\n",
        "      elif  lado1  ==  lado2  or  lado2 == lado3 or lado1 == lado3 :\n",
        "            print (\"Triângulo isósceles\")\n",
        "      else:\n",
        "             print  (\"Triângulo escaleno\")\n",
        "else:\n",
        "      print (\"Não forma um triângulo\")"
      ],
      "execution_count": null,
      "outputs": []
    },
    {
      "cell_type": "markdown",
      "metadata": {
        "id": "KLwcBvz16Kj_"
      },
      "source": [
        "2 - Verifique se  o ano é bissexto"
      ]
    },
    {
      "cell_type": "code",
      "metadata": {
        "id": "mFkfQRlOqAzz"
      },
      "source": [
        "ano = int(input(\"Digite qual ano você deseja saber se é bissexto : \"))\n",
        "\n",
        "if (ano % 4 == 0 and ano % 100 !=0) or ano % 400 == 0:\n",
        "         print (ano, \"foi/é ano bissexto\")\n",
        "else:\n",
        "           print (\"Não é ano bissexto\")"
      ],
      "execution_count": null,
      "outputs": []
    },
    {
      "cell_type": "markdown",
      "metadata": {
        "id": "IDlkZTcv6USQ"
      },
      "source": [
        "3- Se haverá multa por quilos de peixes excedidos"
      ]
    },
    {
      "cell_type": "code",
      "metadata": {
        "id": "E1gzm0Wvq1Ps",
        "colab": {
          "base_uri": "https://localhost:8080/"
        },
        "outputId": "a9a20d8f-074b-4960-b205-a8329de9023d"
      },
      "source": [
        "peixes = int(input(\"Digite o peso de peixes: \"))\n",
        "multa = 4\n",
        "if peixes > 50: \n",
        "  excesso = peixes - 50\n",
        "  valor_multa = excesso * multa\n",
        "  print(\"Quantidade que tem de excesso\", excesso)\n",
        "  print(\"João deve pagar um valor de R$\", valor_multa)\n",
        "else:\n",
        "  print(\"João não precisa pagar multa\")"
      ],
      "execution_count": 23,
      "outputs": [
        {
          "output_type": "stream",
          "text": [
            "Digite o peso de peixes: 52\n",
            "Quantidade que tem de excesso 2\n",
            "João deve pagar um valor de R$ 8\n"
          ],
          "name": "stdout"
        }
      ]
    },
    {
      "cell_type": "markdown",
      "metadata": {
        "id": "jieaWQp67Kk2"
      },
      "source": [
        "4 - leia três números e mostre o maior deles"
      ]
    },
    {
      "cell_type": "code",
      "metadata": {
        "id": "Ke1vVJBvt2TK"
      },
      "source": [
        "a = int(input(\"informe o valor de a: \"))\n",
        "b = int(input(\"informe o valor de b: \"))\n",
        "c = int(input(\"informe o valor de c: \"))\n",
        "\n",
        "if a > b and a > c:\n",
        "  print(\"o maior valor é\", a)\n",
        "elif b > c:\n",
        "  print(\"o maior valor é\", b)\n",
        "else:\n",
        "  print(\"o maior valor é\", c)"
      ],
      "execution_count": null,
      "outputs": []
    },
    {
      "cell_type": "markdown",
      "metadata": {
        "id": "L4Jvc-R-7sqp"
      },
      "source": [
        " 5 - leia três números e mostre o maior e o menor deles"
      ]
    },
    {
      "cell_type": "code",
      "metadata": {
        "id": "SWVMtl2Dv0MP"
      },
      "source": [
        "a = int(input(\"informe o valor de a: \"))\n",
        "b = int(input(\"informe o valor de b: \"))\n",
        "c = int(input(\"informe o valor de c: \"))\n",
        "\n",
        "if a > b and a > c:\n",
        "  print(\"o maior valor é\", a)\n",
        "elif b > c:\n",
        "  print(\"o maior valor é\", b)\n",
        "else:\n",
        "  print(\"o maior valor é\", c)\n",
        "\n",
        "if a < b and a < c:\n",
        "  print(\"o menor valor é\", a)\n",
        "elif b < c:\n",
        "  print(\"o menor valor é\", b)\n",
        "else:\n",
        "  print(\"o menor valor é\", c)\n"
      ],
      "execution_count": null,
      "outputs": []
    }
  ]
}